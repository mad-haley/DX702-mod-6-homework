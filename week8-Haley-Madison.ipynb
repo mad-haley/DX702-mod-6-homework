{
 "cells": [
  {
   "cell_type": "markdown",
   "id": "511b4651",
   "metadata": {},
   "source": [
    "# week 8"
   ]
  },
  {
   "cell_type": "markdown",
   "id": "249c25c6",
   "metadata": {},
   "source": [
    "Q1"
   ]
  },
  {
   "cell_type": "code",
   "execution_count": 2,
   "id": "07296981",
   "metadata": {},
   "outputs": [
    {
     "data": {
      "text/html": [
       "<div>\n",
       "<style scoped>\n",
       "    .dataframe tbody tr th:only-of-type {\n",
       "        vertical-align: middle;\n",
       "    }\n",
       "\n",
       "    .dataframe tbody tr th {\n",
       "        vertical-align: top;\n",
       "    }\n",
       "\n",
       "    .dataframe thead th {\n",
       "        text-align: right;\n",
       "    }\n",
       "</style>\n",
       "<table border=\"1\" class=\"dataframe\">\n",
       "  <thead>\n",
       "    <tr style=\"text-align: right;\">\n",
       "      <th></th>\n",
       "      <th>Unnamed: 0</th>\n",
       "      <th>X</th>\n",
       "      <th>Y</th>\n",
       "      <th>Z</th>\n",
       "    </tr>\n",
       "  </thead>\n",
       "  <tbody>\n",
       "    <tr>\n",
       "      <th>0</th>\n",
       "      <td>0</td>\n",
       "      <td>1</td>\n",
       "      <td>4.109218</td>\n",
       "      <td>1.764052</td>\n",
       "    </tr>\n",
       "    <tr>\n",
       "      <th>1</th>\n",
       "      <td>1</td>\n",
       "      <td>0</td>\n",
       "      <td>2.259504</td>\n",
       "      <td>0.400157</td>\n",
       "    </tr>\n",
       "    <tr>\n",
       "      <th>2</th>\n",
       "      <td>2</td>\n",
       "      <td>0</td>\n",
       "      <td>-0.647584</td>\n",
       "      <td>0.978738</td>\n",
       "    </tr>\n",
       "    <tr>\n",
       "      <th>3</th>\n",
       "      <td>3</td>\n",
       "      <td>0</td>\n",
       "      <td>2.106071</td>\n",
       "      <td>2.240893</td>\n",
       "    </tr>\n",
       "    <tr>\n",
       "      <th>4</th>\n",
       "      <td>4</td>\n",
       "      <td>1</td>\n",
       "      <td>3.583464</td>\n",
       "      <td>1.867558</td>\n",
       "    </tr>\n",
       "  </tbody>\n",
       "</table>\n",
       "</div>"
      ],
      "text/plain": [
       "   Unnamed: 0  X         Y         Z\n",
       "0           0  1  4.109218  1.764052\n",
       "1           1  0  2.259504  0.400157\n",
       "2           2  0 -0.647584  0.978738\n",
       "3           3  0  2.106071  2.240893\n",
       "4           4  1  3.583464  1.867558"
      ]
     },
     "execution_count": 2,
     "metadata": {},
     "output_type": "execute_result"
    }
   ],
   "source": [
    "import pandas as pd\n",
    "\n",
    "# Load\n",
    "df1 = pd.read_csv(\"homework_8.1.csv\")\n",
    "df1.head()"
   ]
  },
  {
   "cell_type": "code",
   "execution_count": 3,
   "id": "7dab01cc",
   "metadata": {},
   "outputs": [
    {
     "data": {
      "text/plain": [
       "np.float64(2.2743411898510133)"
      ]
     },
     "execution_count": 3,
     "metadata": {},
     "output_type": "execute_result"
    }
   ],
   "source": [
    "from sklearn.linear_model import LogisticRegression\n",
    "import numpy as np\n",
    "\n",
    "# 1. Estimate propensity scores using logistic regression (Z predicts X)\n",
    "logit = LogisticRegression()\n",
    "logit.fit(df1[['Z']], df1['X'])\n",
    "\n",
    "# predict propensity scores\n",
    "df1['propensity'] = logit.predict_proba(df1[['Z']])[:, 1]\n",
    "\n",
    "# 2. Find inverse probability weights\n",
    "df1['weight'] = np.where(df1['X'] == 1, 1 / df1['propensity'], 1 / (1 - df1['propensity']))\n",
    "\n",
    "# 3. Calc weighted averages of Y for treated and control\n",
    "treated = df1[df1['X'] == 1]\n",
    "control = df1[df1['X'] == 0]\n",
    "\n",
    "weighted_mean_treated = np.sum(treated['Y'] * treated['weight']) / np.sum(treated['weight'])\n",
    "weighted_mean_control = np.sum(control['Y'] * control['weight']) / np.sum(control['weight'])\n",
    "\n",
    "# 4. Estimate ATE\n",
    "ate_ipw = weighted_mean_treated - weighted_mean_control\n",
    "ate_ipw\n"
   ]
  },
  {
   "cell_type": "markdown",
   "id": "df9a0575",
   "metadata": {},
   "source": [
    "Q2"
   ]
  },
  {
   "cell_type": "code",
   "execution_count": 5,
   "id": "35f1b6b2",
   "metadata": {},
   "outputs": [
    {
     "data": {
      "text/plain": [
       "[0.840113713150768, 0.5846459703178026, 0.711082447582062]"
      ]
     },
     "execution_count": 5,
     "metadata": {},
     "output_type": "execute_result"
    }
   ],
   "source": [
    "# First three propensity scores\n",
    "df1['propensity'].head(3).tolist()"
   ]
  },
  {
   "cell_type": "markdown",
   "id": "5e043a4c",
   "metadata": {},
   "source": [
    "Q3"
   ]
  },
  {
   "cell_type": "code",
   "execution_count": 7,
   "id": "55d8fab7",
   "metadata": {},
   "outputs": [
    {
     "data": {
      "text/html": [
       "<div>\n",
       "<style scoped>\n",
       "    .dataframe tbody tr th:only-of-type {\n",
       "        vertical-align: middle;\n",
       "    }\n",
       "\n",
       "    .dataframe tbody tr th {\n",
       "        vertical-align: top;\n",
       "    }\n",
       "\n",
       "    .dataframe thead th {\n",
       "        text-align: right;\n",
       "    }\n",
       "</style>\n",
       "<table border=\"1\" class=\"dataframe\">\n",
       "  <thead>\n",
       "    <tr style=\"text-align: right;\">\n",
       "      <th></th>\n",
       "      <th>Unnamed: 0</th>\n",
       "      <th>X</th>\n",
       "      <th>Y</th>\n",
       "      <th>Z1</th>\n",
       "      <th>Z2</th>\n",
       "    </tr>\n",
       "  </thead>\n",
       "  <tbody>\n",
       "    <tr>\n",
       "      <th>0</th>\n",
       "      <td>0</td>\n",
       "      <td>1</td>\n",
       "      <td>4.652085</td>\n",
       "      <td>1.764052</td>\n",
       "      <td>2.320015</td>\n",
       "    </tr>\n",
       "    <tr>\n",
       "      <th>1</th>\n",
       "      <td>1</td>\n",
       "      <td>1</td>\n",
       "      <td>2.590221</td>\n",
       "      <td>0.400157</td>\n",
       "      <td>1.292631</td>\n",
       "    </tr>\n",
       "    <tr>\n",
       "      <th>2</th>\n",
       "      <td>2</td>\n",
       "      <td>1</td>\n",
       "      <td>3.898981</td>\n",
       "      <td>0.978738</td>\n",
       "      <td>0.556423</td>\n",
       "    </tr>\n",
       "    <tr>\n",
       "      <th>3</th>\n",
       "      <td>3</td>\n",
       "      <td>1</td>\n",
       "      <td>5.857179</td>\n",
       "      <td>2.240893</td>\n",
       "      <td>2.345607</td>\n",
       "    </tr>\n",
       "    <tr>\n",
       "      <th>4</th>\n",
       "      <td>4</td>\n",
       "      <td>1</td>\n",
       "      <td>3.647489</td>\n",
       "      <td>1.867558</td>\n",
       "      <td>2.095611</td>\n",
       "    </tr>\n",
       "  </tbody>\n",
       "</table>\n",
       "</div>"
      ],
      "text/plain": [
       "   Unnamed: 0  X         Y        Z1        Z2\n",
       "0           0  1  4.652085  1.764052  2.320015\n",
       "1           1  1  2.590221  0.400157  1.292631\n",
       "2           2  1  3.898981  0.978738  0.556423\n",
       "3           3  1  5.857179  2.240893  2.345607\n",
       "4           4  1  3.647489  1.867558  2.095611"
      ]
     },
     "execution_count": 7,
     "metadata": {},
     "output_type": "execute_result"
    }
   ],
   "source": [
    "from scipy.spatial.distance import mahalanobis\n",
    "\n",
    "# Load\n",
    "df2 = pd.read_csv(\"homework_8.2.csv\")\n",
    "df2.head()"
   ]
  },
  {
   "cell_type": "code",
   "execution_count": 8,
   "id": "bb412083",
   "metadata": {},
   "outputs": [
    {
     "name": "stdout",
     "output_type": "stream",
     "text": [
      "ATE (Mahalanobis Matching): 3.4376789979126094\n"
     ]
    }
   ],
   "source": [
    "# 1. Split reated and untreated\n",
    "treated = df2[df2['X'] == 1].reset_index(drop=True)\n",
    "control = df2[df2['X'] == 0].reset_index(drop=True)\n",
    "\n",
    "# 2. Covariance matrix using Z1 and Z2\n",
    "Z = df2[['Z1', 'Z2']].values\n",
    "cov = np.cov(Z, rowvar=False)\n",
    "inv_cov = np.linalg.inv(cov)\n",
    "\n",
    "# 3. For each treated, find closest control via Mahalanobis distance\n",
    "matches = []\n",
    "for i in range(len(treated)):\n",
    "    z_treat = treated.loc[i, ['Z1', 'Z2']].values\n",
    "    dists = control[['Z1', 'Z2']].apply(\n",
    "        lambda row: mahalanobis(z_treat, row.values, inv_cov),\n",
    "        axis=1\n",
    "    )\n",
    "    nearest_idx = dists.idxmin()  # index of nearest untreated\n",
    "    matches.append(control.loc[nearest_idx])\n",
    "\n",
    "# 4. Convert matches into DataFrame\n",
    "matched_controls = pd.DataFrame(matches).reset_index(drop=True)\n",
    "\n",
    "# 5. Compute ATE\n",
    "ate = np.mean(treated['Y'].values - matched_controls['Y'].values)\n",
    "print(\"ATE (Mahalanobis Matching):\", ate)"
   ]
  },
  {
   "cell_type": "markdown",
   "id": "fbb3de04",
   "metadata": {},
   "source": [
    "Q4"
   ]
  },
  {
   "cell_type": "code",
   "execution_count": 10,
   "id": "c7264865",
   "metadata": {},
   "outputs": [
    {
     "name": "stdout",
     "output_type": "stream",
     "text": [
      "Treated item (least common support):\n",
      "Z1    2.696224\n",
      "Z2    0.538155\n",
      "Name: 241, dtype: float64\n",
      "\n",
      "Nearest untreated match:\n",
      "Z1    1.519995\n",
      "Z2   -1.282208\n",
      "Name: 217, dtype: float64\n",
      "\n",
      "Mahalanobis distance: 1.383\n"
     ]
    }
   ],
   "source": [
    "# 1. Split into treated and control\n",
    "treated = df2[df2['X'] == 1].reset_index(drop=True)\n",
    "control = df2[df2['X'] == 0].reset_index(drop=True)\n",
    "\n",
    "# 2. Inverse covariance of Z1 and Z2\n",
    "Z = df2[['Z1', 'Z2']].values\n",
    "cov = np.cov(Z, rowvar=False)\n",
    "inv_cov = np.linalg.inv(cov)\n",
    "\n",
    "# 3. Find the nearest control for each treated and record distance\n",
    "distances = []\n",
    "for i in range(len(treated)):\n",
    "    z_treat = treated.loc[i, ['Z1', 'Z2']].values\n",
    "    dists = control[['Z1', 'Z2']].apply(\n",
    "        lambda row: mahalanobis(z_treat, row.values, inv_cov),\n",
    "        axis=1\n",
    "    )\n",
    "    nearest_idx = dists.idxmin()\n",
    "    min_dist = dists.min()\n",
    "    distances.append((i, min_dist, nearest_idx))\n",
    "\n",
    "# 4. Find treated item with the biggest/farthest min distance\n",
    "farthest_match = max(distances, key=lambda x: x[1])\n",
    "treated_idx, farthest_dist, nearest_control_idx = farthest_match\n",
    "\n",
    "# 5. Extract those rows\n",
    "farthest_treated = treated.loc[treated_idx, ['Z1', 'Z2']]\n",
    "nearest_control = control.loc[nearest_control_idx, ['Z1', 'Z2']]\n",
    "\n",
    "print(\"Treated item (least common support):\")\n",
    "print(farthest_treated)\n",
    "print(\"\\nNearest untreated match:\")\n",
    "print(nearest_control)\n",
    "print(f\"\\nMahalanobis distance: {farthest_dist:.3f}\")"
   ]
  }
 ],
 "metadata": {
  "kernelspec": {
   "display_name": "Python 3",
   "language": "python",
   "name": "python3"
  },
  "language_info": {
   "codemirror_mode": {
    "name": "ipython",
    "version": 3
   },
   "file_extension": ".py",
   "mimetype": "text/x-python",
   "name": "python",
   "nbconvert_exporter": "python",
   "pygments_lexer": "ipython3",
   "version": "3.12.1"
  }
 },
 "nbformat": 4,
 "nbformat_minor": 5
}
