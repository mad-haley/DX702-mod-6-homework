{
 "cells": [
  {
   "cell_type": "markdown",
   "id": "78043abe",
   "metadata": {},
   "source": [
    "# week 7"
   ]
  },
  {
   "cell_type": "code",
   "execution_count": 1,
   "id": "6eae123b",
   "metadata": {},
   "outputs": [
    {
     "name": "stdout",
     "output_type": "stream",
     "text": [
      "Correlation between X and the error term u: 0.407\n"
     ]
    }
   ],
   "source": [
    "#Q1 \n",
    "\n",
    "import numpy as np\n",
    "\n",
    "# random seed for reproducibility\n",
    "np.random.seed(0)\n",
    "\n",
    "# generate data from the question\n",
    "W = np.random.normal(0, 1, 100000)\n",
    "X = W + np.random.normal(0, 1, 100000)\n",
    "Z = np.random.normal(0, 1, 100000)\n",
    "Y = X + Z + W + np.random.normal(0, 1, 100000)\n",
    "\n",
    "# define the true error term (the part of Y not explained by X)\n",
    "u = Z + W + (Y - (X + Z + W))  # but simpler: u = Z + W + noise_Y\n",
    "# or, if we separate explicitly:\n",
    "epsilon_Y = Y - (X + Z + W)\n",
    "u = Z + W + epsilon_Y\n",
    "\n",
    "# compute correlation\n",
    "corr = np.corrcoef(X, u)[0, 1]\n",
    "print(f\"Correlation between X and the error term u: {corr:.3f}\")\n"
   ]
  },
  {
   "cell_type": "code",
   "execution_count": null,
   "id": "18429301",
   "metadata": {},
   "outputs": [
    {
     "name": "stdout",
     "output_type": "stream",
     "text": [
      "Correlation between X and the error term (u): 0.499\n"
     ]
    }
   ],
   "source": [
    "# Q2\n",
    "\n",
    "# random seed\n",
    "np.random.seed(0)\n",
    "\n",
    "# generate data\n",
    "n = 100000\n",
    "W = np.random.normal(0, 1, n)\n",
    "X = W + np.random.normal(0, 1, n)\n",
    "Z = np.random.normal(0, 1, n)\n",
    "Y = X + Z + W + np.random.normal(0, 1, n)\n",
    "\n",
    "# error term when regressing Y on X and Z only:\n",
    "# u = W + epsilon_Y, where epsilon_Y = Y - (X + Z + W)\n",
    "epsilon_Y = Y - (X + Z + W)\n",
    "u = W + epsilon_Y  # same as the \"unobserved\" part if W is omitted\n",
    "\n",
    "# c\n",
    "# ompute correlation between X and the regression error\n",
    "corr = np.corrcoef(X, u)[0, 1]\n",
    "print(f\"Correlation between X and the error term (u): {corr:.3f}\")\n"
   ]
  },
  {
   "cell_type": "code",
   "execution_count": 4,
   "id": "7b51dfea",
   "metadata": {},
   "outputs": [
    {
     "data": {
      "text/html": [
       "<div>\n",
       "<style scoped>\n",
       "    .dataframe tbody tr th:only-of-type {\n",
       "        vertical-align: middle;\n",
       "    }\n",
       "\n",
       "    .dataframe tbody tr th {\n",
       "        vertical-align: top;\n",
       "    }\n",
       "\n",
       "    .dataframe thead th {\n",
       "        text-align: right;\n",
       "    }\n",
       "</style>\n",
       "<table border=\"1\" class=\"dataframe\">\n",
       "  <thead>\n",
       "    <tr style=\"text-align: right;\">\n",
       "      <th></th>\n",
       "      <th>Unnamed: 0</th>\n",
       "      <th>X</th>\n",
       "      <th>W</th>\n",
       "      <th>Z</th>\n",
       "      <th>Y</th>\n",
       "    </tr>\n",
       "  </thead>\n",
       "  <tbody>\n",
       "    <tr>\n",
       "      <th>0</th>\n",
       "      <td>0</td>\n",
       "      <td>1.137055</td>\n",
       "      <td>1.221768</td>\n",
       "      <td>0.327829</td>\n",
       "      <td>1.944532</td>\n",
       "    </tr>\n",
       "    <tr>\n",
       "      <th>1</th>\n",
       "      <td>1</td>\n",
       "      <td>-0.112905</td>\n",
       "      <td>0.465835</td>\n",
       "      <td>0.599650</td>\n",
       "      <td>0.655514</td>\n",
       "    </tr>\n",
       "    <tr>\n",
       "      <th>2</th>\n",
       "      <td>2</td>\n",
       "      <td>2.077755</td>\n",
       "      <td>1.795414</td>\n",
       "      <td>-0.063393</td>\n",
       "      <td>5.934411</td>\n",
       "    </tr>\n",
       "    <tr>\n",
       "      <th>3</th>\n",
       "      <td>3</td>\n",
       "      <td>0.456373</td>\n",
       "      <td>-0.512159</td>\n",
       "      <td>1.177413</td>\n",
       "      <td>-0.188064</td>\n",
       "    </tr>\n",
       "    <tr>\n",
       "      <th>4</th>\n",
       "      <td>4</td>\n",
       "      <td>-1.012402</td>\n",
       "      <td>0.080002</td>\n",
       "      <td>-0.275697</td>\n",
       "      <td>-0.533775</td>\n",
       "    </tr>\n",
       "  </tbody>\n",
       "</table>\n",
       "</div>"
      ],
      "text/plain": [
       "   Unnamed: 0         X         W         Z         Y\n",
       "0           0  1.137055  1.221768  0.327829  1.944532\n",
       "1           1 -0.112905  0.465835  0.599650  0.655514\n",
       "2           2  2.077755  1.795414 -0.063393  5.934411\n",
       "3           3  0.456373 -0.512159  1.177413 -0.188064\n",
       "4           4 -1.012402  0.080002 -0.275697 -0.533775"
      ]
     },
     "execution_count": 4,
     "metadata": {},
     "output_type": "execute_result"
    }
   ],
   "source": [
    "# Q3\n",
    "\n",
    "import pandas as pd\n",
    "\n",
    "# load\n",
    "df = pd.read_csv(\"homework_7.1.csv\")\n",
    "df.head()\n"
   ]
  },
  {
   "cell_type": "code",
   "execution_count": 7,
   "id": "406d4b20",
   "metadata": {},
   "outputs": [
    {
     "name": "stdout",
     "output_type": "stream",
     "text": [
      "Collecting statsmodels\n",
      "  Downloading statsmodels-0.14.5-cp312-cp312-manylinux2014_x86_64.manylinux_2_17_x86_64.manylinux_2_28_x86_64.whl.metadata (9.5 kB)\n",
      "Requirement already satisfied: numpy<3,>=1.22.3 in /home/codespace/.local/lib/python3.12/site-packages (from statsmodels) (2.3.1)\n",
      "Requirement already satisfied: scipy!=1.9.2,>=1.8 in /home/codespace/.local/lib/python3.12/site-packages (from statsmodels) (1.16.0)\n",
      "Requirement already satisfied: pandas!=2.1.0,>=1.4 in /home/codespace/.local/lib/python3.12/site-packages (from statsmodels) (2.3.1)\n",
      "Collecting patsy>=0.5.6 (from statsmodels)\n",
      "  Downloading patsy-1.0.1-py2.py3-none-any.whl.metadata (3.3 kB)\n",
      "Requirement already satisfied: packaging>=21.3 in /home/codespace/.local/lib/python3.12/site-packages (from statsmodels) (25.0)\n",
      "Requirement already satisfied: python-dateutil>=2.8.2 in /home/codespace/.local/lib/python3.12/site-packages (from pandas!=2.1.0,>=1.4->statsmodels) (2.9.0.post0)\n",
      "Requirement already satisfied: pytz>=2020.1 in /home/codespace/.local/lib/python3.12/site-packages (from pandas!=2.1.0,>=1.4->statsmodels) (2025.2)\n",
      "Requirement already satisfied: tzdata>=2022.7 in /home/codespace/.local/lib/python3.12/site-packages (from pandas!=2.1.0,>=1.4->statsmodels) (2025.2)\n",
      "Requirement already satisfied: six>=1.5 in /home/codespace/.local/lib/python3.12/site-packages (from python-dateutil>=2.8.2->pandas!=2.1.0,>=1.4->statsmodels) (1.17.0)\n",
      "Downloading statsmodels-0.14.5-cp312-cp312-manylinux2014_x86_64.manylinux_2_17_x86_64.manylinux_2_28_x86_64.whl (10.4 MB)\n",
      "\u001b[2K   \u001b[90m━━━━━━━━━━━━━━━━━━━━━━━━━━━━━━━━━━━━━━━━\u001b[0m \u001b[32m10.4/10.4 MB\u001b[0m \u001b[31m28.5 MB/s\u001b[0m eta \u001b[36m0:00:00\u001b[0m \u001b[36m0:00:01\u001b[0m\n",
      "\u001b[?25hDownloading patsy-1.0.1-py2.py3-none-any.whl (232 kB)\n",
      "Installing collected packages: patsy, statsmodels\n",
      "\u001b[2K   \u001b[90m━━━━━━━━━━━━━━━━━━━━━━━━━━━━━━━━━━━━━━━━\u001b[0m \u001b[32m2/2\u001b[0m [statsmodels]\u001b[0m [statsmodels]\n",
      "\u001b[1A\u001b[2KSuccessfully installed patsy-1.0.1 statsmodels-0.14.5\n",
      "\n",
      "\u001b[1m[\u001b[0m\u001b[34;49mnotice\u001b[0m\u001b[1;39;49m]\u001b[0m\u001b[39;49m A new release of pip is available: \u001b[0m\u001b[31;49m25.1.1\u001b[0m\u001b[39;49m -> \u001b[0m\u001b[32;49m25.2\u001b[0m\n",
      "\u001b[1m[\u001b[0m\u001b[34;49mnotice\u001b[0m\u001b[1;39;49m]\u001b[0m\u001b[39;49m To update, run: \u001b[0m\u001b[32;49mpython3 -m pip install --upgrade pip\u001b[0m\n"
     ]
    }
   ],
   "source": [
    "!pip install statsmodels"
   ]
  },
  {
   "cell_type": "code",
   "execution_count": 9,
   "id": "3dc13613",
   "metadata": {},
   "outputs": [
    {
     "data": {
      "text/plain": [
       "{-1: (np.float64(0.990090408694134), 2433),\n",
       " 0: (np.float64(1.4859822514480032), 3821),\n",
       " 1: (np.float64(1.9936504417092331), 2407)}"
      ]
     },
     "execution_count": 9,
     "metadata": {},
     "output_type": "execute_result"
    }
   ],
   "source": [
    "import statsmodels.api as sm\n",
    "import numpy as np\n",
    "\n",
    "# drop the index col\n",
    "df = df.drop(columns=['Unnamed: 0'], errors='ignore')\n",
    "\n",
    "# helper function to estimate coefficient of X when W ≈ constant\n",
    "def estimate_coef_at_W(w_value, bandwidth=0.5):\n",
    "    \"\"\"Estimate coefficient of X at values of W near w_value.\"\"\"\n",
    "    subset = df[(df['W'] > w_value - bandwidth) & (df['W'] < w_value + bandwidth)]\n",
    "    X_vars = sm.add_constant(subset[['X', 'Z']])\n",
    "    model = sm.OLS(subset['Y'], X_vars).fit()\n",
    "    return model.params['X'], len(subset)\n",
    "\n",
    "# compute coefficient of X at W ≈ -1, 0, 1\n",
    "results = {w: estimate_coef_at_W(w) for w in [-1, 0, 1]}\n",
    "results"
   ]
  },
  {
   "cell_type": "code",
   "execution_count": 12,
   "id": "517d4592",
   "metadata": {},
   "outputs": [
    {
     "name": "stdout",
     "output_type": "stream",
     "text": [
      "corr_const = 0.2:  std(β̂_X) = 0.0628,  mean(SE) = 0.0640\n",
      "corr_const = 0.5:  std(β̂_X) = 0.0844,  mean(SE) = 0.0653\n",
      "corr_const = 0.8:  std(β̂_X) = 0.1349,  mean(SE) = 0.0678\n"
     ]
    }
   ],
   "source": [
    "# Q4\n",
    "\n",
    "# error generator with correlation\n",
    "def make_error(corr_const, num):\n",
    "    err = []\n",
    "    prev = np.random.normal(0, 1)\n",
    "    for n in range(num):\n",
    "        prev = corr_const * prev + np.random.normal(0, 1)\n",
    "        err.append(prev)\n",
    "    return np.array(err)\n",
    "\n",
    "# simulation settings\n",
    "num_obs = 200\n",
    "num_trials = 500\n",
    "corr_values = [0.2, 0.5, 0.8]\n",
    "\n",
    "results = {}\n",
    "\n",
    "for rho in corr_values:\n",
    "    betas = []\n",
    "    se_estimates = []\n",
    "    \n",
    "    for _ in range(num_trials):\n",
    "        # autocorrelated errors\n",
    "        err_X = make_error(rho, num_obs)\n",
    "        err_Y = make_error(rho, num_obs)\n",
    "        \n",
    "        # treatment and outcome (X and Y)\n",
    "        X = 0.5 * np.random.normal(0, 1, num_obs) + err_X\n",
    "        Y = 2 + 3 * X + err_Y  # True β_X = 3\n",
    "        \n",
    "        # fit regression WITH intercept\n",
    "        model = sm.OLS(Y, sm.add_constant(X)).fit()\n",
    "        \n",
    "        betas.append(model.params[1])\n",
    "        se_estimates.append(model.bse[1])\n",
    "    \n",
    "    results[rho] = {\n",
    "        \"beta_std\": np.std(betas),\n",
    "        \"mean_SE_est\": np.mean(se_estimates)\n",
    "    }\n",
    "\n",
    "# results\n",
    "for rho, vals in results.items():\n",
    "    print(f\"corr_const = {rho}:  std(β̂_X) = {vals['beta_std']:.4f},  mean(SE) = {vals['mean_SE_est']:.4f}\")\n"
   ]
  },
  {
   "cell_type": "markdown",
   "id": "198374de",
   "metadata": {},
   "source": [
    "##### hw reflection Qs"
   ]
  },
  {
   "cell_type": "code",
   "execution_count": 2,
   "id": "7a838cc2",
   "metadata": {},
   "outputs": [
    {
     "name": "stdout",
     "output_type": "stream",
     "text": [
      "Collecting statsmodels\n",
      "  Downloading statsmodels-0.14.5-cp312-cp312-manylinux2014_x86_64.manylinux_2_17_x86_64.manylinux_2_28_x86_64.whl.metadata (9.5 kB)\n",
      "Requirement already satisfied: numpy<3,>=1.22.3 in /home/codespace/.local/lib/python3.12/site-packages (from statsmodels) (2.3.1)\n",
      "Requirement already satisfied: scipy!=1.9.2,>=1.8 in /home/codespace/.local/lib/python3.12/site-packages (from statsmodels) (1.16.0)\n",
      "Requirement already satisfied: pandas!=2.1.0,>=1.4 in /home/codespace/.local/lib/python3.12/site-packages (from statsmodels) (2.3.1)\n",
      "Collecting patsy>=0.5.6 (from statsmodels)\n",
      "  Downloading patsy-1.0.2-py2.py3-none-any.whl.metadata (3.6 kB)\n",
      "Requirement already satisfied: packaging>=21.3 in /home/codespace/.local/lib/python3.12/site-packages (from statsmodels) (25.0)\n",
      "Requirement already satisfied: python-dateutil>=2.8.2 in /home/codespace/.local/lib/python3.12/site-packages (from pandas!=2.1.0,>=1.4->statsmodels) (2.9.0.post0)\n",
      "Requirement already satisfied: pytz>=2020.1 in /home/codespace/.local/lib/python3.12/site-packages (from pandas!=2.1.0,>=1.4->statsmodels) (2025.2)\n",
      "Requirement already satisfied: tzdata>=2022.7 in /home/codespace/.local/lib/python3.12/site-packages (from pandas!=2.1.0,>=1.4->statsmodels) (2025.2)\n",
      "Requirement already satisfied: six>=1.5 in /home/codespace/.local/lib/python3.12/site-packages (from python-dateutil>=2.8.2->pandas!=2.1.0,>=1.4->statsmodels) (1.17.0)\n",
      "Downloading statsmodels-0.14.5-cp312-cp312-manylinux2014_x86_64.manylinux_2_17_x86_64.manylinux_2_28_x86_64.whl (10.4 MB)\n",
      "\u001b[2K   \u001b[90m━━━━━━━━━━━━━━━━━━━━━━━━━━━━━━━━━━━━━━━━\u001b[0m \u001b[32m10.4/10.4 MB\u001b[0m \u001b[31m26.4 MB/s\u001b[0m eta \u001b[36m0:00:00\u001b[0m00:01\u001b[0m0:01\u001b[0m\n",
      "\u001b[?25hDownloading patsy-1.0.2-py2.py3-none-any.whl (233 kB)\n",
      "Installing collected packages: patsy, statsmodels\n",
      "\u001b[2K   \u001b[90m━━━━━━━━━━━━━━━━━━━━━━━━━━━━━━━━━━━━━━━━\u001b[0m \u001b[32m2/2\u001b[0m [statsmodels]\u001b[0m [statsmodels]\n",
      "\u001b[1A\u001b[2KSuccessfully installed patsy-1.0.2 statsmodels-0.14.5\n",
      "\n",
      "\u001b[1m[\u001b[0m\u001b[34;49mnotice\u001b[0m\u001b[1;39;49m]\u001b[0m\u001b[39;49m A new release of pip is available: \u001b[0m\u001b[31;49m25.1.1\u001b[0m\u001b[39;49m -> \u001b[0m\u001b[32;49m25.2\u001b[0m\n",
      "\u001b[1m[\u001b[0m\u001b[34;49mnotice\u001b[0m\u001b[1;39;49m]\u001b[0m\u001b[39;49m To update, run: \u001b[0m\u001b[32;49mpython3 -m pip install --upgrade pip\u001b[0m\n"
     ]
    }
   ],
   "source": [
    "!pip install statsmodels"
   ]
  },
  {
   "cell_type": "code",
   "execution_count": 4,
   "id": "d7cf6182",
   "metadata": {},
   "outputs": [
    {
     "name": "stdout",
     "output_type": "stream",
     "text": [
      "--- Model 1 (True Model: Y ~ X + Z) ---\n",
      "==============================================================================\n",
      "                 coef    std err          t      P>|t|      [0.025      0.975]\n",
      "------------------------------------------------------------------------------\n",
      "const          0.0061      0.031      0.197      0.844      -0.055       0.067\n",
      "X              1.9898      0.031     63.691      0.000       1.929       2.051\n",
      "Z              3.0371      0.056     54.650      0.000       2.928       3.146\n",
      "==============================================================================\n",
      "\n",
      "\n",
      "--- Model 2 (Naive Model: Y ~ X) ---\n",
      "==============================================================================\n",
      "                 coef    std err          t      P>|t|      [0.025      0.975]\n",
      "------------------------------------------------------------------------------\n",
      "const         -0.0749      0.062     -1.203      0.229      -0.197       0.047\n",
      "X              3.3901      0.036     94.922      0.000       3.320       3.460\n",
      "==============================================================================\n",
      "\n",
      "\n",
      "True effect of X on Y:     2\n",
      "Estimated effect of X in full model:  1.9898\n",
      "Estimated effect of X in naive model: 3.3901\n",
      "\n",
      "Result: The correlation is OVERESTIMATED.\n"
     ]
    }
   ],
   "source": [
    "import numpy as np\n",
    "import statsmodels.api as sm\n",
    "import pandas as pd\n",
    "\n",
    "# random seed\n",
    "np.random.seed(42)\n",
    "\n",
    "# sample size\n",
    "n_samples = 1000\n",
    "\n",
    "# --- 1. DGP ---\n",
    "\n",
    "# Z is the confounder.\n",
    "# Z positively affects both X and Y.\n",
    "Z = np.random.normal(0, 1, n_samples)\n",
    "\n",
    "# X is affected by Z.\n",
    "# corr(X, Z) will be positive.\n",
    "X = 1.5 * Z + np.random.normal(0, 1, n_samples)\n",
    "\n",
    "# Y is affected by both X and Z.\n",
    "# the true coefficient for X is 2.\n",
    "# the coefficient for the confounder Z is 3.\n",
    "true_beta_X = 2\n",
    "true_beta_Z = 3\n",
    "Y = true_beta_X * X + true_beta_Z * Z + np.random.normal(0, 1, n_samples)\n",
    "\n",
    "# create df\n",
    "df = pd.DataFrame({'X': X, 'Y': Y, 'Z': Z})\n",
    "\n",
    "# --- 2. Fit the Models ---\n",
    "\n",
    "# add a constant to predictors\n",
    "X_with_const = sm.add_constant(df[['X', 'Z']])\n",
    "X_naive_with_const = sm.add_constant(df[['X']])\n",
    "\n",
    "# model 1: true model (includes confounder Z)\n",
    "model_true = sm.OLS(df['Y'], X_with_const).fit()\n",
    "\n",
    "# model 2: naive model (omits confounder Z)\n",
    "model_naive = sm.OLS(df['Y'], X_naive_with_const).fit()\n",
    "\n",
    "# --- 3. Compare Results ---\n",
    "\n",
    "print(\"--- Model 1 (True Model: Y ~ X + Z) ---\")\n",
    "print(model_true.summary().tables[1])\n",
    "print(\"\\n\")\n",
    "\n",
    "print(\"--- Model 2 (Naive Model: Y ~ X) ---\")\n",
    "print(model_naive.summary().tables[1])\n",
    "print(\"\\n\")\n",
    "\n",
    "# coefficients for X from both models\n",
    "coef_X_true_model = model_true.params['X']\n",
    "coef_X_naive_model = model_naive.params['X']\n",
    "\n",
    "print(f\"True effect of X on Y:     {true_beta_X}\")\n",
    "print(f\"Estimated effect of X in full model:  {coef_X_true_model:.4f}\")\n",
    "print(f\"Estimated effect of X in naive model: {coef_X_naive_model:.4f}\")\n",
    "\n",
    "if coef_X_naive_model > true_beta_X:\n",
    "    print(\"\\nResult: The correlation is OVERESTIMATED.\")\n",
    "elif coef_X_naive_model < true_beta_X:\n",
    "    print(\"\\nResult: The correlation is UNDERESTIMATED.\")\n",
    "else:\n",
    "    print(\"\\nResult: The correlation is neither over/underestimated.\")"
   ]
  },
  {
   "cell_type": "code",
   "execution_count": null,
   "id": "2ef4016f",
   "metadata": {},
   "outputs": [
    {
     "name": "stdout",
     "output_type": "stream",
     "text": [
      "Running 1000 simulations with 100 samples each...\n",
      "\n",
      "--- Results ---\n",
      "Best p-value found for W's coefficient: 0.000475\n",
      "Number of times the p-value for W was < 0.05: 51 out of 1000\n",
      "Percentage of 'false positives' (Type I errors): 5.1%\n"
     ]
    }
   ],
   "source": [
    "def run_simulation(n_simulations=1000, n_samples=100):\n",
    "   \n",
    "    # list to store the p-value for the irrelevant variable W from each run\n",
    "    p_values_W = []\n",
    "\n",
    "    print(f\"Running {n_simulations} simulations with {n_samples} samples each...\")\n",
    "\n",
    "    # --- Run Simulation Loop ---\n",
    "    for i in range(n_simulations):\n",
    "        # 1. generate data\n",
    "        # W is just random noise and has no relationship with Y.\n",
    "        # its true coefficient is 0.\n",
    "        W = np.random.normal(0, 1, n_samples)\n",
    "        \n",
    "        # X is a predictor that !does! have a true relationship with Y.\n",
    "        X = np.random.normal(0, 1, n_samples)\n",
    "        \n",
    "        # Y depends on X (true coefficient = 2) and some random noise,\n",
    "        # but it does NOT depend on W.\n",
    "        true_beta_X = 2\n",
    "        Y = true_beta_X * X + np.random.normal(0, 1, n_samples)\n",
    "        \n",
    "        # df\n",
    "        df = pd.DataFrame({'X': X, 'Y': Y, 'W': W})\n",
    "        \n",
    "        # 2. linear regression analysis\n",
    "        # model: Y = beta_0 + beta_1*X + beta_2*W\n",
    "        predictors = sm.add_constant(df[['X', 'W']])\n",
    "        model = sm.OLS(df['Y'], predictors).fit()\n",
    "        \n",
    "        # 3. extract and store p-value for coefficient of W\n",
    "        p_val_W = model.pvalues['W']\n",
    "        p_values_W.append(p_val_W)\n",
    "\n",
    "    # --- Report Results ---\n",
    "\n",
    "    # find best (smallest) p-value\n",
    "    min_p_value = min(p_values_W)\n",
    "\n",
    "    # count false positives\n",
    "    count_significant = sum(1 for p in p_values_W if p < 0.05)\n",
    "\n",
    "    print(\"\\n--- Results ---\")\n",
    "    print(f\"Best p-value found for W's coefficient: {min_p_value:.6f}\")\n",
    "    print(f\"Number of times the p-value for W was < 0.05: {count_significant} out of {n_simulations}\")\n",
    "    \n",
    "    percentage_false_positives = (count_significant / n_simulations) * 100\n",
    "    print(f\"Percentage of 'false positives' (Type I errors): {percentage_false_positives:.1f}%\")\n",
    "\n",
    "\n",
    "if __name__ == '__main__':\n",
    "    # random seed for reproducibility\n",
    "    np.random.seed(42)\n",
    "    run_simulation(n_simulations=1000, n_samples=100)"
   ]
  }
 ],
 "metadata": {
  "kernelspec": {
   "display_name": "Python 3",
   "language": "python",
   "name": "python3"
  },
  "language_info": {
   "codemirror_mode": {
    "name": "ipython",
    "version": 3
   },
   "file_extension": ".py",
   "mimetype": "text/x-python",
   "name": "python",
   "nbconvert_exporter": "python",
   "pygments_lexer": "ipython3",
   "version": "3.12.1"
  }
 },
 "nbformat": 4,
 "nbformat_minor": 5
}
