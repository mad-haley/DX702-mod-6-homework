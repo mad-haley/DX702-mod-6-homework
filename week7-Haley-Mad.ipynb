{
 "cells": [
  {
   "cell_type": "markdown",
   "id": "78043abe",
   "metadata": {},
   "source": [
    "# week 7"
   ]
  },
  {
   "cell_type": "code",
   "execution_count": 1,
   "id": "6eae123b",
   "metadata": {},
   "outputs": [
    {
     "name": "stdout",
     "output_type": "stream",
     "text": [
      "Correlation between X and the error term u: 0.407\n"
     ]
    }
   ],
   "source": [
    "#Q1 \n",
    "\n",
    "import numpy as np\n",
    "\n",
    "# random seed for reproducibility\n",
    "np.random.seed(0)\n",
    "\n",
    "# generate data from the question\n",
    "W = np.random.normal(0, 1, 100000)\n",
    "X = W + np.random.normal(0, 1, 100000)\n",
    "Z = np.random.normal(0, 1, 100000)\n",
    "Y = X + Z + W + np.random.normal(0, 1, 100000)\n",
    "\n",
    "# define the true error term (the part of Y not explained by X)\n",
    "u = Z + W + (Y - (X + Z + W))  # but simpler: u = Z + W + noise_Y\n",
    "# or, if we separate explicitly:\n",
    "epsilon_Y = Y - (X + Z + W)\n",
    "u = Z + W + epsilon_Y\n",
    "\n",
    "# compute correlation\n",
    "corr = np.corrcoef(X, u)[0, 1]\n",
    "print(f\"Correlation between X and the error term u: {corr:.3f}\")\n"
   ]
  },
  {
   "cell_type": "code",
   "execution_count": null,
   "id": "18429301",
   "metadata": {},
   "outputs": [
    {
     "name": "stdout",
     "output_type": "stream",
     "text": [
      "Correlation between X and the error term (u): 0.499\n"
     ]
    }
   ],
   "source": [
    "# Q2\n",
    "\n",
    "# random seed\n",
    "np.random.seed(0)\n",
    "\n",
    "# generate data\n",
    "n = 100000\n",
    "W = np.random.normal(0, 1, n)\n",
    "X = W + np.random.normal(0, 1, n)\n",
    "Z = np.random.normal(0, 1, n)\n",
    "Y = X + Z + W + np.random.normal(0, 1, n)\n",
    "\n",
    "# error term when regressing Y on X and Z only:\n",
    "# u = W + epsilon_Y, where epsilon_Y = Y - (X + Z + W)\n",
    "epsilon_Y = Y - (X + Z + W)\n",
    "u = W + epsilon_Y  # same as the \"unobserved\" part if W is omitted\n",
    "\n",
    "# c\n",
    "# ompute correlation between X and the regression error\n",
    "corr = np.corrcoef(X, u)[0, 1]\n",
    "print(f\"Correlation between X and the error term (u): {corr:.3f}\")\n"
   ]
  },
  {
   "cell_type": "code",
   "execution_count": 4,
   "id": "7b51dfea",
   "metadata": {},
   "outputs": [
    {
     "data": {
      "text/html": [
       "<div>\n",
       "<style scoped>\n",
       "    .dataframe tbody tr th:only-of-type {\n",
       "        vertical-align: middle;\n",
       "    }\n",
       "\n",
       "    .dataframe tbody tr th {\n",
       "        vertical-align: top;\n",
       "    }\n",
       "\n",
       "    .dataframe thead th {\n",
       "        text-align: right;\n",
       "    }\n",
       "</style>\n",
       "<table border=\"1\" class=\"dataframe\">\n",
       "  <thead>\n",
       "    <tr style=\"text-align: right;\">\n",
       "      <th></th>\n",
       "      <th>Unnamed: 0</th>\n",
       "      <th>X</th>\n",
       "      <th>W</th>\n",
       "      <th>Z</th>\n",
       "      <th>Y</th>\n",
       "    </tr>\n",
       "  </thead>\n",
       "  <tbody>\n",
       "    <tr>\n",
       "      <th>0</th>\n",
       "      <td>0</td>\n",
       "      <td>1.137055</td>\n",
       "      <td>1.221768</td>\n",
       "      <td>0.327829</td>\n",
       "      <td>1.944532</td>\n",
       "    </tr>\n",
       "    <tr>\n",
       "      <th>1</th>\n",
       "      <td>1</td>\n",
       "      <td>-0.112905</td>\n",
       "      <td>0.465835</td>\n",
       "      <td>0.599650</td>\n",
       "      <td>0.655514</td>\n",
       "    </tr>\n",
       "    <tr>\n",
       "      <th>2</th>\n",
       "      <td>2</td>\n",
       "      <td>2.077755</td>\n",
       "      <td>1.795414</td>\n",
       "      <td>-0.063393</td>\n",
       "      <td>5.934411</td>\n",
       "    </tr>\n",
       "    <tr>\n",
       "      <th>3</th>\n",
       "      <td>3</td>\n",
       "      <td>0.456373</td>\n",
       "      <td>-0.512159</td>\n",
       "      <td>1.177413</td>\n",
       "      <td>-0.188064</td>\n",
       "    </tr>\n",
       "    <tr>\n",
       "      <th>4</th>\n",
       "      <td>4</td>\n",
       "      <td>-1.012402</td>\n",
       "      <td>0.080002</td>\n",
       "      <td>-0.275697</td>\n",
       "      <td>-0.533775</td>\n",
       "    </tr>\n",
       "  </tbody>\n",
       "</table>\n",
       "</div>"
      ],
      "text/plain": [
       "   Unnamed: 0         X         W         Z         Y\n",
       "0           0  1.137055  1.221768  0.327829  1.944532\n",
       "1           1 -0.112905  0.465835  0.599650  0.655514\n",
       "2           2  2.077755  1.795414 -0.063393  5.934411\n",
       "3           3  0.456373 -0.512159  1.177413 -0.188064\n",
       "4           4 -1.012402  0.080002 -0.275697 -0.533775"
      ]
     },
     "execution_count": 4,
     "metadata": {},
     "output_type": "execute_result"
    }
   ],
   "source": [
    "# Q3\n",
    "\n",
    "import pandas as pd\n",
    "\n",
    "# load\n",
    "df = pd.read_csv(\"homework_7.1.csv\")\n",
    "df.head()\n"
   ]
  },
  {
   "cell_type": "code",
   "execution_count": 7,
   "id": "406d4b20",
   "metadata": {},
   "outputs": [
    {
     "name": "stdout",
     "output_type": "stream",
     "text": [
      "Collecting statsmodels\n",
      "  Downloading statsmodels-0.14.5-cp312-cp312-manylinux2014_x86_64.manylinux_2_17_x86_64.manylinux_2_28_x86_64.whl.metadata (9.5 kB)\n",
      "Requirement already satisfied: numpy<3,>=1.22.3 in /home/codespace/.local/lib/python3.12/site-packages (from statsmodels) (2.3.1)\n",
      "Requirement already satisfied: scipy!=1.9.2,>=1.8 in /home/codespace/.local/lib/python3.12/site-packages (from statsmodels) (1.16.0)\n",
      "Requirement already satisfied: pandas!=2.1.0,>=1.4 in /home/codespace/.local/lib/python3.12/site-packages (from statsmodels) (2.3.1)\n",
      "Collecting patsy>=0.5.6 (from statsmodels)\n",
      "  Downloading patsy-1.0.1-py2.py3-none-any.whl.metadata (3.3 kB)\n",
      "Requirement already satisfied: packaging>=21.3 in /home/codespace/.local/lib/python3.12/site-packages (from statsmodels) (25.0)\n",
      "Requirement already satisfied: python-dateutil>=2.8.2 in /home/codespace/.local/lib/python3.12/site-packages (from pandas!=2.1.0,>=1.4->statsmodels) (2.9.0.post0)\n",
      "Requirement already satisfied: pytz>=2020.1 in /home/codespace/.local/lib/python3.12/site-packages (from pandas!=2.1.0,>=1.4->statsmodels) (2025.2)\n",
      "Requirement already satisfied: tzdata>=2022.7 in /home/codespace/.local/lib/python3.12/site-packages (from pandas!=2.1.0,>=1.4->statsmodels) (2025.2)\n",
      "Requirement already satisfied: six>=1.5 in /home/codespace/.local/lib/python3.12/site-packages (from python-dateutil>=2.8.2->pandas!=2.1.0,>=1.4->statsmodels) (1.17.0)\n",
      "Downloading statsmodels-0.14.5-cp312-cp312-manylinux2014_x86_64.manylinux_2_17_x86_64.manylinux_2_28_x86_64.whl (10.4 MB)\n",
      "\u001b[2K   \u001b[90m━━━━━━━━━━━━━━━━━━━━━━━━━━━━━━━━━━━━━━━━\u001b[0m \u001b[32m10.4/10.4 MB\u001b[0m \u001b[31m28.5 MB/s\u001b[0m eta \u001b[36m0:00:00\u001b[0m \u001b[36m0:00:01\u001b[0m\n",
      "\u001b[?25hDownloading patsy-1.0.1-py2.py3-none-any.whl (232 kB)\n",
      "Installing collected packages: patsy, statsmodels\n",
      "\u001b[2K   \u001b[90m━━━━━━━━━━━━━━━━━━━━━━━━━━━━━━━━━━━━━━━━\u001b[0m \u001b[32m2/2\u001b[0m [statsmodels]\u001b[0m [statsmodels]\n",
      "\u001b[1A\u001b[2KSuccessfully installed patsy-1.0.1 statsmodels-0.14.5\n",
      "\n",
      "\u001b[1m[\u001b[0m\u001b[34;49mnotice\u001b[0m\u001b[1;39;49m]\u001b[0m\u001b[39;49m A new release of pip is available: \u001b[0m\u001b[31;49m25.1.1\u001b[0m\u001b[39;49m -> \u001b[0m\u001b[32;49m25.2\u001b[0m\n",
      "\u001b[1m[\u001b[0m\u001b[34;49mnotice\u001b[0m\u001b[1;39;49m]\u001b[0m\u001b[39;49m To update, run: \u001b[0m\u001b[32;49mpython3 -m pip install --upgrade pip\u001b[0m\n"
     ]
    }
   ],
   "source": [
    "!pip install statsmodels"
   ]
  },
  {
   "cell_type": "code",
   "execution_count": 9,
   "id": "3dc13613",
   "metadata": {},
   "outputs": [
    {
     "data": {
      "text/plain": [
       "{-1: (np.float64(0.990090408694134), 2433),\n",
       " 0: (np.float64(1.4859822514480032), 3821),\n",
       " 1: (np.float64(1.9936504417092331), 2407)}"
      ]
     },
     "execution_count": 9,
     "metadata": {},
     "output_type": "execute_result"
    }
   ],
   "source": [
    "import statsmodels.api as sm\n",
    "import numpy as np\n",
    "\n",
    "# drop the index col\n",
    "df = df.drop(columns=['Unnamed: 0'], errors='ignore')\n",
    "\n",
    "# helper function to estimate coefficient of X when W ≈ constant\n",
    "def estimate_coef_at_W(w_value, bandwidth=0.5):\n",
    "    \"\"\"Estimate coefficient of X at values of W near w_value.\"\"\"\n",
    "    subset = df[(df['W'] > w_value - bandwidth) & (df['W'] < w_value + bandwidth)]\n",
    "    X_vars = sm.add_constant(subset[['X', 'Z']])\n",
    "    model = sm.OLS(subset['Y'], X_vars).fit()\n",
    "    return model.params['X'], len(subset)\n",
    "\n",
    "# compute coefficient of X at W ≈ -1, 0, 1\n",
    "results = {w: estimate_coef_at_W(w) for w in [-1, 0, 1]}\n",
    "results"
   ]
  },
  {
   "cell_type": "code",
   "execution_count": 12,
   "id": "517d4592",
   "metadata": {},
   "outputs": [
    {
     "name": "stdout",
     "output_type": "stream",
     "text": [
      "corr_const = 0.2:  std(β̂_X) = 0.0628,  mean(SE) = 0.0640\n",
      "corr_const = 0.5:  std(β̂_X) = 0.0844,  mean(SE) = 0.0653\n",
      "corr_const = 0.8:  std(β̂_X) = 0.1349,  mean(SE) = 0.0678\n"
     ]
    }
   ],
   "source": [
    "# Q4\n",
    "\n",
    "# error generator with correlation\n",
    "def make_error(corr_const, num):\n",
    "    err = []\n",
    "    prev = np.random.normal(0, 1)\n",
    "    for n in range(num):\n",
    "        prev = corr_const * prev + np.random.normal(0, 1)\n",
    "        err.append(prev)\n",
    "    return np.array(err)\n",
    "\n",
    "# simulation settings\n",
    "num_obs = 200\n",
    "num_trials = 500\n",
    "corr_values = [0.2, 0.5, 0.8]\n",
    "\n",
    "results = {}\n",
    "\n",
    "for rho in corr_values:\n",
    "    betas = []\n",
    "    se_estimates = []\n",
    "    \n",
    "    for _ in range(num_trials):\n",
    "        # autocorrelated errors\n",
    "        err_X = make_error(rho, num_obs)\n",
    "        err_Y = make_error(rho, num_obs)\n",
    "        \n",
    "        # treatment and outcome (X and Y)\n",
    "        X = 0.5 * np.random.normal(0, 1, num_obs) + err_X\n",
    "        Y = 2 + 3 * X + err_Y  # True β_X = 3\n",
    "        \n",
    "        # fit regression WITH intercept\n",
    "        model = sm.OLS(Y, sm.add_constant(X)).fit()\n",
    "        \n",
    "        betas.append(model.params[1])\n",
    "        se_estimates.append(model.bse[1])\n",
    "    \n",
    "    results[rho] = {\n",
    "        \"beta_std\": np.std(betas),\n",
    "        \"mean_SE_est\": np.mean(se_estimates)\n",
    "    }\n",
    "\n",
    "# results\n",
    "for rho, vals in results.items():\n",
    "    print(f\"corr_const = {rho}:  std(β̂_X) = {vals['beta_std']:.4f},  mean(SE) = {vals['mean_SE_est']:.4f}\")\n"
   ]
  }
 ],
 "metadata": {
  "kernelspec": {
   "display_name": "Python 3",
   "language": "python",
   "name": "python3"
  },
  "language_info": {
   "codemirror_mode": {
    "name": "ipython",
    "version": 3
   },
   "file_extension": ".py",
   "mimetype": "text/x-python",
   "name": "python",
   "nbconvert_exporter": "python",
   "pygments_lexer": "ipython3",
   "version": "3.12.1"
  }
 },
 "nbformat": 4,
 "nbformat_minor": 5
}
