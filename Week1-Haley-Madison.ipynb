{
 "cells": [
  {
   "cell_type": "markdown",
   "id": "a5f9ae87",
   "metadata": {},
   "source": [
    "# week 1 homework"
   ]
  },
  {
   "cell_type": "code",
   "execution_count": 32,
   "id": "bea4b56b",
   "metadata": {},
   "outputs": [
    {
     "name": "stdout",
     "output_type": "stream",
     "text": [
      "Requirement already satisfied: statsmodels in /usr/local/python/3.12.1/lib/python3.12/site-packages (0.14.5)\n",
      "Requirement already satisfied: numpy<3,>=1.22.3 in /home/codespace/.local/lib/python3.12/site-packages (from statsmodels) (2.3.1)\n",
      "Requirement already satisfied: scipy!=1.9.2,>=1.8 in /home/codespace/.local/lib/python3.12/site-packages (from statsmodels) (1.16.0)\n",
      "Requirement already satisfied: pandas!=2.1.0,>=1.4 in /home/codespace/.local/lib/python3.12/site-packages (from statsmodels) (2.3.1)\n",
      "Requirement already satisfied: patsy>=0.5.6 in /usr/local/python/3.12.1/lib/python3.12/site-packages (from statsmodels) (1.0.1)\n",
      "Requirement already satisfied: packaging>=21.3 in /home/codespace/.local/lib/python3.12/site-packages (from statsmodels) (25.0)\n",
      "Requirement already satisfied: python-dateutil>=2.8.2 in /home/codespace/.local/lib/python3.12/site-packages (from pandas!=2.1.0,>=1.4->statsmodels) (2.9.0.post0)\n",
      "Requirement already satisfied: pytz>=2020.1 in /home/codespace/.local/lib/python3.12/site-packages (from pandas!=2.1.0,>=1.4->statsmodels) (2025.2)\n",
      "Requirement already satisfied: tzdata>=2022.7 in /home/codespace/.local/lib/python3.12/site-packages (from pandas!=2.1.0,>=1.4->statsmodels) (2025.2)\n",
      "Requirement already satisfied: six>=1.5 in /home/codespace/.local/lib/python3.12/site-packages (from python-dateutil>=2.8.2->pandas!=2.1.0,>=1.4->statsmodels) (1.17.0)\n",
      "\n",
      "\u001b[1m[\u001b[0m\u001b[34;49mnotice\u001b[0m\u001b[1;39;49m]\u001b[0m\u001b[39;49m A new release of pip is available: \u001b[0m\u001b[31;49m25.1.1\u001b[0m\u001b[39;49m -> \u001b[0m\u001b[32;49m25.2\u001b[0m\n",
      "\u001b[1m[\u001b[0m\u001b[34;49mnotice\u001b[0m\u001b[1;39;49m]\u001b[0m\u001b[39;49m To update, run: \u001b[0m\u001b[32;49mpython3 -m pip install --upgrade pip\u001b[0m\n"
     ]
    }
   ],
   "source": [
    "# imports\n",
    "!pip install statsmodels\n",
    "import pandas as pd\n",
    "import numpy as np\n",
    "from sklearn.model_selection import train_test_split\n",
    "from sklearn.linear_model import LinearRegression\n",
    "from sklearn import metrics\n",
    "import statsmodels.api as sm\n",
    "from sklearn.neighbors import NearestNeighbors"
   ]
  },
  {
   "cell_type": "code",
   "execution_count": 4,
   "id": "64c16fbc",
   "metadata": {},
   "outputs": [
    {
     "name": "stdout",
     "output_type": "stream",
     "text": [
      "<class 'pandas.core.frame.DataFrame'>\n",
      "RangeIndex: 1000 entries, 0 to 999\n",
      "Data columns (total 5 columns):\n",
      " #   Column      Non-Null Count  Dtype  \n",
      "---  ------      --------------  -----  \n",
      " 0   Unnamed: 0  1000 non-null   int64  \n",
      " 1   X1          1000 non-null   float64\n",
      " 2   X2          1000 non-null   float64\n",
      " 3   X3          1000 non-null   float64\n",
      " 4   Y           1000 non-null   float64\n",
      "dtypes: float64(4), int64(1)\n",
      "memory usage: 39.2 KB\n"
     ]
    }
   ],
   "source": [
    "hw1_df = pd.read_csv('homework_1.1.csv')\n",
    "hw1_df.info()"
   ]
  },
  {
   "cell_type": "code",
   "execution_count": 5,
   "id": "c9b3f401",
   "metadata": {},
   "outputs": [
    {
     "data": {
      "text/html": [
       "<div>\n",
       "<style scoped>\n",
       "    .dataframe tbody tr th:only-of-type {\n",
       "        vertical-align: middle;\n",
       "    }\n",
       "\n",
       "    .dataframe tbody tr th {\n",
       "        vertical-align: top;\n",
       "    }\n",
       "\n",
       "    .dataframe thead th {\n",
       "        text-align: right;\n",
       "    }\n",
       "</style>\n",
       "<table border=\"1\" class=\"dataframe\">\n",
       "  <thead>\n",
       "    <tr style=\"text-align: right;\">\n",
       "      <th></th>\n",
       "      <th>Unnamed: 0</th>\n",
       "      <th>X1</th>\n",
       "      <th>X2</th>\n",
       "      <th>X3</th>\n",
       "      <th>Y</th>\n",
       "    </tr>\n",
       "  </thead>\n",
       "  <tbody>\n",
       "    <tr>\n",
       "      <th>count</th>\n",
       "      <td>1000.000000</td>\n",
       "      <td>1000.000000</td>\n",
       "      <td>1000.000000</td>\n",
       "      <td>1000.000000</td>\n",
       "      <td>1000.000000</td>\n",
       "    </tr>\n",
       "    <tr>\n",
       "      <th>mean</th>\n",
       "      <td>499.500000</td>\n",
       "      <td>0.045555</td>\n",
       "      <td>0.030001</td>\n",
       "      <td>0.057442</td>\n",
       "      <td>0.278379</td>\n",
       "    </tr>\n",
       "    <tr>\n",
       "      <th>std</th>\n",
       "      <td>288.819436</td>\n",
       "      <td>2.191768</td>\n",
       "      <td>0.981732</td>\n",
       "      <td>1.050014</td>\n",
       "      <td>5.201346</td>\n",
       "    </tr>\n",
       "    <tr>\n",
       "      <th>min</th>\n",
       "      <td>0.000000</td>\n",
       "      <td>-6.163467</td>\n",
       "      <td>-2.703008</td>\n",
       "      <td>-3.348274</td>\n",
       "      <td>-13.862793</td>\n",
       "    </tr>\n",
       "    <tr>\n",
       "      <th>25%</th>\n",
       "      <td>249.750000</td>\n",
       "      <td>-1.465901</td>\n",
       "      <td>-0.662930</td>\n",
       "      <td>-0.677971</td>\n",
       "      <td>-3.396553</td>\n",
       "    </tr>\n",
       "    <tr>\n",
       "      <th>50%</th>\n",
       "      <td>499.500000</td>\n",
       "      <td>0.039807</td>\n",
       "      <td>0.001803</td>\n",
       "      <td>0.029222</td>\n",
       "      <td>0.044328</td>\n",
       "    </tr>\n",
       "    <tr>\n",
       "      <th>75%</th>\n",
       "      <td>749.250000</td>\n",
       "      <td>1.502296</td>\n",
       "      <td>0.688336</td>\n",
       "      <td>0.768379</td>\n",
       "      <td>3.694404</td>\n",
       "    </tr>\n",
       "    <tr>\n",
       "      <th>max</th>\n",
       "      <td>999.000000</td>\n",
       "      <td>8.464936</td>\n",
       "      <td>3.153685</td>\n",
       "      <td>3.871509</td>\n",
       "      <td>18.146133</td>\n",
       "    </tr>\n",
       "  </tbody>\n",
       "</table>\n",
       "</div>"
      ],
      "text/plain": [
       "        Unnamed: 0           X1           X2           X3            Y\n",
       "count  1000.000000  1000.000000  1000.000000  1000.000000  1000.000000\n",
       "mean    499.500000     0.045555     0.030001     0.057442     0.278379\n",
       "std     288.819436     2.191768     0.981732     1.050014     5.201346\n",
       "min       0.000000    -6.163467    -2.703008    -3.348274   -13.862793\n",
       "25%     249.750000    -1.465901    -0.662930    -0.677971    -3.396553\n",
       "50%     499.500000     0.039807     0.001803     0.029222     0.044328\n",
       "75%     749.250000     1.502296     0.688336     0.768379     3.694404\n",
       "max     999.000000     8.464936     3.153685     3.871509    18.146133"
      ]
     },
     "execution_count": 5,
     "metadata": {},
     "output_type": "execute_result"
    }
   ],
   "source": [
    "hw1_df.describe()"
   ]
  },
  {
   "cell_type": "code",
   "execution_count": 6,
   "id": "6e8ce801",
   "metadata": {},
   "outputs": [
    {
     "data": {
      "text/html": [
       "<div>\n",
       "<style scoped>\n",
       "    .dataframe tbody tr th:only-of-type {\n",
       "        vertical-align: middle;\n",
       "    }\n",
       "\n",
       "    .dataframe tbody tr th {\n",
       "        vertical-align: top;\n",
       "    }\n",
       "\n",
       "    .dataframe thead th {\n",
       "        text-align: right;\n",
       "    }\n",
       "</style>\n",
       "<table border=\"1\" class=\"dataframe\">\n",
       "  <thead>\n",
       "    <tr style=\"text-align: right;\">\n",
       "      <th></th>\n",
       "      <th>Unnamed: 0</th>\n",
       "      <th>X1</th>\n",
       "      <th>X2</th>\n",
       "      <th>X3</th>\n",
       "      <th>Y</th>\n",
       "    </tr>\n",
       "  </thead>\n",
       "  <tbody>\n",
       "    <tr>\n",
       "      <th>0</th>\n",
       "      <td>0</td>\n",
       "      <td>-0.440646</td>\n",
       "      <td>-0.390227</td>\n",
       "      <td>0.156718</td>\n",
       "      <td>-0.877671</td>\n",
       "    </tr>\n",
       "    <tr>\n",
       "      <th>1</th>\n",
       "      <td>1</td>\n",
       "      <td>-3.810099</td>\n",
       "      <td>-1.304665</td>\n",
       "      <td>-1.105117</td>\n",
       "      <td>-10.130388</td>\n",
       "    </tr>\n",
       "    <tr>\n",
       "      <th>2</th>\n",
       "      <td>2</td>\n",
       "      <td>-1.425451</td>\n",
       "      <td>-0.340049</td>\n",
       "      <td>1.115908</td>\n",
       "      <td>0.284068</td>\n",
       "    </tr>\n",
       "    <tr>\n",
       "      <th>3</th>\n",
       "      <td>3</td>\n",
       "      <td>-1.325750</td>\n",
       "      <td>0.161906</td>\n",
       "      <td>-0.254670</td>\n",
       "      <td>-1.994344</td>\n",
       "    </tr>\n",
       "    <tr>\n",
       "      <th>4</th>\n",
       "      <td>4</td>\n",
       "      <td>3.120263</td>\n",
       "      <td>1.487343</td>\n",
       "      <td>-1.164839</td>\n",
       "      <td>2.030030</td>\n",
       "    </tr>\n",
       "  </tbody>\n",
       "</table>\n",
       "</div>"
      ],
      "text/plain": [
       "   Unnamed: 0        X1        X2        X3          Y\n",
       "0           0 -0.440646 -0.390227  0.156718  -0.877671\n",
       "1           1 -3.810099 -1.304665 -1.105117 -10.130388\n",
       "2           2 -1.425451 -0.340049  1.115908   0.284068\n",
       "3           3 -1.325750  0.161906 -0.254670  -1.994344\n",
       "4           4  3.120263  1.487343 -1.164839   2.030030"
      ]
     },
     "execution_count": 6,
     "metadata": {},
     "output_type": "execute_result"
    }
   ],
   "source": [
    "hw1_df.head()"
   ]
  },
  {
   "cell_type": "markdown",
   "id": "cc7eb665",
   "metadata": {},
   "source": [
    "### linear regression questions"
   ]
  },
  {
   "cell_type": "code",
   "execution_count": 34,
   "id": "87d12735",
   "metadata": {},
   "outputs": [
    {
     "name": "stdout",
     "output_type": "stream",
     "text": [
      "Intercept: 0.0026430033841688405\n",
      "Coefficients: [1.00713766 1.96456859 2.97548854]\n",
      "Mean Squared Error: 0.2509162964680301\n",
      "R^2 Score: 0.9907160704940021\n"
     ]
    }
   ],
   "source": [
    "# features\n",
    "X = hw1_df[['X1', 'X2', 'X3']]\n",
    "\n",
    "# target\n",
    "y = hw1_df['Y']\n",
    "\n",
    "# initialize model\n",
    "model = LinearRegression()\n",
    "\n",
    "# fit model\n",
    "model.fit(X, y)\n",
    "\n",
    "# coefficients and intercept\n",
    "print(\"Intercept:\", model.intercept_)\n",
    "print(\"Coefficients:\", model.coef_)\n",
    "\n",
    "# prediction\n",
    "y_pred = model.predict(X)\n",
    "\n",
    "# evaluate performance\n",
    "from sklearn.metrics import mean_squared_error, r2_score\n",
    "\n",
    "mse = mean_squared_error(y, y_pred)\n",
    "r2 = r2_score(y, y_pred)\n",
    "\n",
    "print(\"Mean Squared Error:\", mse)\n",
    "print(\"R^2 Score:\", r2)\n"
   ]
  },
  {
   "cell_type": "code",
   "execution_count": 37,
   "id": "aef630cc",
   "metadata": {},
   "outputs": [
    {
     "name": "stdout",
     "output_type": "stream",
     "text": [
      "    Coefficient\n",
      "X1     1.007138\n",
      "X2     1.964569\n",
      "X3     2.975489\n"
     ]
    }
   ],
   "source": [
    "# df to clearly see coefficient for each feature\n",
    "coeff_df = pd.DataFrame(model.coef_, X.columns, columns=['Coefficient'])\n",
    "print(coeff_df)"
   ]
  },
  {
   "cell_type": "code",
   "execution_count": 38,
   "id": "72ba091d",
   "metadata": {},
   "outputs": [
    {
     "name": "stdout",
     "output_type": "stream",
     "text": [
      "--- Model Coefficients (from Y ~ X1 + X2 + X3) ---\n",
      "Intercept: 0.0026\n",
      "    Coefficient_Multivariate\n",
      "X1                  1.007138\n",
      "X2                  1.964569\n",
      "X3                  2.975489\n",
      "--- Univariate vs. Multivariate Coefficient Analysis ---\n",
      "\n",
      "--- Comparison of Coefficients ---\n",
      "    Coefficient_Multivariate  Coefficient_Univariate  Difference\n",
      "X1                  1.007138                1.841761    0.834623\n",
      "X2                  1.964569                4.083613    2.119044\n",
      "X3                  2.975489                3.097041    0.121553\n",
      "\n",
      "The feature with the greatest difference is 'X2' with a difference of 2.1190.\n"
     ]
    }
   ],
   "source": [
    "# answer question 2...\n",
    "# regress Y on each Xi alone (univariate)\n",
    "# and compare those coefficients to the ones from the multiple regression above\n",
    "\n",
    "# --- Multivariate Regression (Y on X1, X2, X3) ---\n",
    "features = ['X1', 'X2', 'X3']\n",
    "X = hw1_df[features]\n",
    "y = hw1_df['Y']\n",
    "\n",
    "multi_model = LinearRegression()\n",
    "multi_model.fit(X, y)\n",
    "\n",
    "print(\"--- Model Coefficients (from Y ~ X1 + X2 + X3) ---\")\n",
    "print(f'Intercept: {multi_model.intercept_:.4f}')\n",
    "\n",
    "# initial df\n",
    "coeff_df = pd.DataFrame(multi_model.coef_, features, columns=['Coefficient_Multivariate'])\n",
    "print(coeff_df)\n",
    "\n",
    "# --- Univariate Regressions (Y on each Xi) ---\n",
    "print(\"--- Univariate vs. Multivariate Coefficient Analysis ---\")\n",
    "\n",
    "# empty list to store the regression coefficients\n",
    "univariate_coeffs = []\n",
    "for feature in features:\n",
    "    # select a single feature\n",
    "    X_single = hw1_df[[feature]]\n",
    "\n",
    "    # train linear regression model\n",
    "    single_model = LinearRegression()\n",
    "    single_model.fit(X_single, y)\n",
    "\n",
    "    # append the coefficient to the list\n",
    "    univariate_coeffs.append(single_model.coef_[0])\n",
    "\n",
    "# add the new coefficients as a new column in df\n",
    "coeff_df['Coefficient_Univariate'] = univariate_coeffs\n",
    "\n",
    "# --- Comparison and Conclusion ---\n",
    "coeff_df['Difference'] = abs(coeff_df['Coefficient_Multivariate'] - coeff_df['Coefficient_Univariate'])\n",
    "\n",
    "print(\"\\n--- Comparison of Coefficients ---\")\n",
    "print(coeff_df)\n",
    "\n",
    "# find and print the feature with the greatest difference\n",
    "greatest_diff_feature = coeff_df['Difference'].idxmax()\n",
    "greatest_diff_value = coeff_df['Difference'].max()\n",
    "\n",
    "print(f\"\\nThe feature with the greatest difference is '{greatest_diff_feature}' with a difference of {greatest_diff_value:.4f}.\")\n",
    "\n"
   ]
  },
  {
   "cell_type": "code",
   "execution_count": 39,
   "id": "3ff61d88",
   "metadata": {},
   "outputs": [
    {
     "name": "stdout",
     "output_type": "stream",
     "text": [
      "                            OLS Regression Results                            \n",
      "==============================================================================\n",
      "Dep. Variable:                      Y   R-squared:                       0.991\n",
      "Model:                            OLS   Adj. R-squared:                  0.991\n",
      "Method:                 Least Squares   F-statistic:                 3.543e+04\n",
      "Date:                Mon, 01 Sep 2025   Prob (F-statistic):               0.00\n",
      "Time:                        19:01:35   Log-Likelihood:                -727.62\n",
      "No. Observations:                1000   AIC:                             1463.\n",
      "Df Residuals:                     996   BIC:                             1483.\n",
      "Df Model:                           3                                         \n",
      "Covariance Type:            nonrobust                                         \n",
      "==============================================================================\n",
      "                 coef    std err          t      P>|t|      [0.025      0.975]\n",
      "------------------------------------------------------------------------------\n",
      "const          0.0026      0.016      0.166      0.868      -0.029       0.034\n",
      "X1             1.0071      0.017     60.984      0.000       0.975       1.040\n",
      "X2             1.9646      0.037     53.283      0.000       1.892       2.037\n",
      "X3             2.9755      0.015    196.645      0.000       2.946       3.005\n",
      "==============================================================================\n",
      "Omnibus:                        0.655   Durbin-Watson:                   1.960\n",
      "Prob(Omnibus):                  0.721   Jarque-Bera (JB):                0.592\n",
      "Skew:                          -0.058   Prob(JB):                        0.744\n",
      "Kurtosis:                       3.029   Cond. No.                         5.94\n",
      "==============================================================================\n",
      "\n",
      "Notes:\n",
      "[1] Standard Errors assume that the covariance matrix of the errors is correctly specified.\n"
     ]
    }
   ],
   "source": [
    "# t stat\n",
    "\n",
    "# Features and target\n",
    "X = hw1_df[['X1', 'X2', 'X3']]\n",
    "y = hw1_df['Y']\n",
    "\n",
    "# Add constant (intercept)\n",
    "X = sm.add_constant(X)\n",
    "\n",
    "# Fit OLS regression\n",
    "model = sm.OLS(y, X).fit()\n",
    "\n",
    "# Print summary\n",
    "print(model.summary())"
   ]
  },
  {
   "cell_type": "code",
   "execution_count": 61,
   "id": "12e20163",
   "metadata": {},
   "outputs": [
    {
     "name": "stdout",
     "output_type": "stream",
     "text": [
      "   X1_index      X1_Z  BestMatch_X0_index  BestMatch_X0_Z  Distance\n",
      "0         0  0.715189                  48        0.716327  0.001138\n",
      "1         1  0.645894                  25        0.653108  0.007214\n",
      "2         2  0.437587                  18        0.437032  0.000555\n",
      "3         3  0.891773                   9        0.778157  0.113616\n",
      "4         4  0.963663                   9        0.778157  0.185506\n"
     ]
    }
   ],
   "source": [
    "# KNN\n",
    "# questions 4-5\n",
    "\n",
    "df = pd.read_csv(\"homework_1.2.csv\")\n",
    "\n",
    "# Split\n",
    "X0 = df[df[\"X\"]==0].reset_index(drop=True)\n",
    "X1 = df[df[\"X\"]==1].reset_index(drop=True)\n",
    "\n",
    "# Fit NN on X0, query with X1\n",
    "nn = NearestNeighbors(n_neighbors=1)\n",
    "nn.fit(X0[[\"Z\"]])\n",
    "distances, indices = nn.kneighbors(group1[[\"Z\"]])\n",
    "\n",
    "# Build match DataFrame\n",
    "matches = pd.DataFrame({\n",
    "    \"X1_index\": group1.index,  # index of X=1 row\n",
    "    \"X1_Z\": group1[\"Z\"].values,\n",
    "    \"BestMatch_X0_index\": group0.index[indices.flatten()],  # matched X=0 index\n",
    "    \"BestMatch_X0_Z\": group0.iloc[indices.flatten()][\"Z\"].values,\n",
    "    \"Distance\": distances.flatten()\n",
    "})\n",
    "\n",
    "# Show top matches\n",
    "print(matches.head())\n"
   ]
  },
  {
   "cell_type": "code",
   "execution_count": 70,
   "id": "74ce91fa",
   "metadata": {},
   "outputs": [
    {
     "name": "stdout",
     "output_type": "stream",
     "text": [
      "0.5433600651913855\n"
     ]
    }
   ],
   "source": [
    "# KNN\n",
    "# question 5\n",
    "\n",
    "effect = X1[\"Y\"].mean() - matched_X0[\"Y\"].mean()\n",
    "print(effect)"
   ]
  },
  {
   "cell_type": "code",
   "execution_count": 67,
   "id": "011cfcc3",
   "metadata": {},
   "outputs": [],
   "source": [
    "# questions 6-7\n",
    "# Load dataset\n",
    "df = pd.read_csv(\"homework_1.2.csv\")\n",
    "\n",
    "# Split into groups\n",
    "X0 = df[df[\"X\"] == 0].reset_index(drop=True)\n",
    "X1 = df[df[\"X\"] == 1].reset_index(drop=True)\n",
    "\n",
    "# KNN\n",
    "\n",
    "Z0 = X0[[\"Z\"]].values\n",
    "Z1 = X1[[\"Z\"]].values\n",
    "\n",
    "nn = NearestNeighbors(radius=0.2)\n",
    "nn.fit(Z0)\n",
    "\n",
    "# find all neighbors of X=1 within distance 0.2\n",
    "distances, indices = nn.radius_neighbors(Z1)\n"
   ]
  },
  {
   "cell_type": "code",
   "execution_count": 68,
   "id": "ce6097fc",
   "metadata": {},
   "outputs": [
    {
     "name": "stdout",
     "output_type": "stream",
     "text": [
      "Number of duplicates: 685\n"
     ]
    }
   ],
   "source": [
    "# flatten all matched X0 indices\n",
    "all_matches = [j for idxs in indices for j in idxs]\n",
    "\n",
    "# count duplicates: total matches minus unique matches\n",
    "num_duplicates = len(all_matches) - len(set(all_matches))\n",
    "print(\"Number of duplicates:\", num_duplicates)\n"
   ]
  },
  {
   "cell_type": "code",
   "execution_count": 69,
   "id": "3b47b61e",
   "metadata": {},
   "outputs": [
    {
     "name": "stdout",
     "output_type": "stream",
     "text": [
      "Effect: 0.5844124774008066\n"
     ]
    }
   ],
   "source": [
    "# Q7 \n",
    "# compute mean Y for each neighbor group\n",
    "matched_means = []\n",
    "for idxs in indices:\n",
    "    if len(idxs) > 0:\n",
    "        matched_means.append(X0.iloc[idxs][\"Y\"].mean())\n",
    "    else:\n",
    "        matched_means.append(np.nan)  # if no neighbor, optional: skip or NaN\n",
    "\n",
    "# average across all X=1 (ignore NaNs)\n",
    "avg_matched_y = np.nanmean(matched_means)\n",
    "\n",
    "# mean Y for X=1\n",
    "avg_y_x1 = X1[\"Y\"].mean()\n",
    "\n",
    "# effect\n",
    "effect = avg_y_x1 - avg_matched_y\n",
    "print(\"Effect:\", effect)\n"
   ]
  }
 ],
 "metadata": {
  "kernelspec": {
   "display_name": "Python 3",
   "language": "python",
   "name": "python3"
  },
  "language_info": {
   "codemirror_mode": {
    "name": "ipython",
    "version": 3
   },
   "file_extension": ".py",
   "mimetype": "text/x-python",
   "name": "python",
   "nbconvert_exporter": "python",
   "pygments_lexer": "ipython3",
   "version": "3.12.1"
  }
 },
 "nbformat": 4,
 "nbformat_minor": 5
}
