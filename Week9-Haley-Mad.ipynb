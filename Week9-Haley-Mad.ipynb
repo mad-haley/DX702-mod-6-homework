{
 "cells": [
  {
   "cell_type": "markdown",
   "id": "9c234ecb",
   "metadata": {},
   "source": [
    "# week 9"
   ]
  },
  {
   "cell_type": "code",
   "execution_count": 2,
   "id": "30de5b01",
   "metadata": {},
   "outputs": [
    {
     "name": "stdout",
     "output_type": "stream",
     "text": [
      "Collecting statsmodels\n",
      "  Downloading statsmodels-0.14.5-cp312-cp312-manylinux2014_x86_64.manylinux_2_17_x86_64.manylinux_2_28_x86_64.whl.metadata (9.5 kB)\n",
      "Requirement already satisfied: numpy<3,>=1.22.3 in /home/codespace/.local/lib/python3.12/site-packages (from statsmodels) (2.3.1)\n",
      "Requirement already satisfied: scipy!=1.9.2,>=1.8 in /home/codespace/.local/lib/python3.12/site-packages (from statsmodels) (1.16.0)\n",
      "Requirement already satisfied: pandas!=2.1.0,>=1.4 in /home/codespace/.local/lib/python3.12/site-packages (from statsmodels) (2.3.1)\n",
      "Collecting patsy>=0.5.6 (from statsmodels)\n",
      "  Downloading patsy-1.0.2-py2.py3-none-any.whl.metadata (3.6 kB)\n",
      "Requirement already satisfied: packaging>=21.3 in /home/codespace/.local/lib/python3.12/site-packages (from statsmodels) (25.0)\n",
      "Requirement already satisfied: python-dateutil>=2.8.2 in /home/codespace/.local/lib/python3.12/site-packages (from pandas!=2.1.0,>=1.4->statsmodels) (2.9.0.post0)\n",
      "Requirement already satisfied: pytz>=2020.1 in /home/codespace/.local/lib/python3.12/site-packages (from pandas!=2.1.0,>=1.4->statsmodels) (2025.2)\n",
      "Requirement already satisfied: tzdata>=2022.7 in /home/codespace/.local/lib/python3.12/site-packages (from pandas!=2.1.0,>=1.4->statsmodels) (2025.2)\n",
      "Requirement already satisfied: six>=1.5 in /home/codespace/.local/lib/python3.12/site-packages (from python-dateutil>=2.8.2->pandas!=2.1.0,>=1.4->statsmodels) (1.17.0)\n",
      "Downloading statsmodels-0.14.5-cp312-cp312-manylinux2014_x86_64.manylinux_2_17_x86_64.manylinux_2_28_x86_64.whl (10.4 MB)\n",
      "\u001b[2K   \u001b[90m━━━━━━━━━━━━━━━━━━━━━━━━━━━━━━━━━━━━━━━━\u001b[0m \u001b[32m10.4/10.4 MB\u001b[0m \u001b[31m27.9 MB/s\u001b[0m eta \u001b[36m0:00:00\u001b[0m \u001b[36m0:00:01\u001b[0m\n",
      "\u001b[?25hDownloading patsy-1.0.2-py2.py3-none-any.whl (233 kB)\n",
      "Installing collected packages: patsy, statsmodels\n",
      "\u001b[2K   \u001b[90m━━━━━━━━━━━━━━━━━━━━━━━━━━━━━━━━━━━━━━━━\u001b[0m \u001b[32m2/2\u001b[0m [statsmodels]\u001b[0m [statsmodels]\n",
      "\u001b[1A\u001b[2KSuccessfully installed patsy-1.0.2 statsmodels-0.14.5\n",
      "\n",
      "\u001b[1m[\u001b[0m\u001b[34;49mnotice\u001b[0m\u001b[1;39;49m]\u001b[0m\u001b[39;49m A new release of pip is available: \u001b[0m\u001b[31;49m25.1.1\u001b[0m\u001b[39;49m -> \u001b[0m\u001b[32;49m25.3\u001b[0m\n",
      "\u001b[1m[\u001b[0m\u001b[34;49mnotice\u001b[0m\u001b[1;39;49m]\u001b[0m\u001b[39;49m To update, run: \u001b[0m\u001b[32;49mpython3 -m pip install --upgrade pip\u001b[0m\n"
     ]
    }
   ],
   "source": [
    "!pip install statsmodels"
   ]
  },
  {
   "cell_type": "markdown",
   "id": "27ee73c4",
   "metadata": {},
   "source": [
    "question 1"
   ]
  },
  {
   "cell_type": "code",
   "execution_count": 3,
   "id": "46c4f79d",
   "metadata": {},
   "outputs": [
    {
     "name": "stdout",
     "output_type": "stream",
     "text": [
      "Probability of detecting nonzero effect ≈ 0.882\n"
     ]
    }
   ],
   "source": [
    "import numpy as np\n",
    "import statsmodels.api as sm\n",
    "\n",
    "def simulate(A=1, B=1, C=10, D=1000):\n",
    "    W = np.random.normal(0, 1, D)\n",
    "    X = W + np.random.normal(0, B, D)\n",
    "    Y = A * X - W + np.random.normal(0, C, D)\n",
    "    return Y, X, W\n",
    "\n",
    "def test_power(A=1, B=1, C=10, D=1000, reps=5000):\n",
    "    count = 0\n",
    "    for _ in range(reps):\n",
    "        Y, X, W = simulate(A, B, C, D)\n",
    "        XW = sm.add_constant(np.column_stack([X, W]))\n",
    "        model = sm.OLS(Y, XW).fit()\n",
    "        t_value = model.tvalues[1]   # t-value for X (first non-constant)\n",
    "        if abs(t_value) > 1.96:\n",
    "            count += 1\n",
    "    return count / reps\n",
    "\n",
    "prob = test_power(A=1, B=1, C=10, D=1000, reps=5000)\n",
    "print(f\"Probability of detecting nonzero effect ≈ {prob:.3f}\")"
   ]
  },
  {
   "cell_type": "markdown",
   "id": "9ce718ec",
   "metadata": {},
   "source": [
    "question 2"
   ]
  },
  {
   "cell_type": "code",
   "execution_count": 4,
   "id": "a85c2a4c",
   "metadata": {},
   "outputs": [
    {
     "name": "stdout",
     "output_type": "stream",
     "text": [
      "Skew of estimate: 0.0008569642516143284\n"
     ]
    }
   ],
   "source": [
    "from scipy.stats import skew\n",
    "\n",
    "def simulate(A=1, B=1, C=10, D=1000):\n",
    "    W = np.random.normal(0, 1, D)\n",
    "    X = W + np.random.normal(0, B, D)\n",
    "    Y = A * X - W + np.random.normal(0, C, D)\n",
    "    return Y, X, W\n",
    "\n",
    "def estimate_coeffs(A=1, B=1, C=10, D=1000, reps=5000):\n",
    "    betas = []\n",
    "    for _ in range(reps):\n",
    "        Y, X, W = simulate(A, B, C, D)\n",
    "        XW = sm.add_constant(np.column_stack([X, W]))\n",
    "        model = sm.OLS(Y, XW).fit()\n",
    "        betas.append(model.params[1])  # coefficient for X\n",
    "    return np.array(betas)\n",
    "\n",
    "betas = estimate_coeffs(A=1, B=1, C=10, D=1000, reps=5000)\n",
    "print(\"Skew of estimate:\", skew(betas))\n"
   ]
  },
  {
   "cell_type": "markdown",
   "id": "ad1ae13f",
   "metadata": {},
   "source": [
    "question 3"
   ]
  },
  {
   "cell_type": "code",
   "execution_count": 5,
   "id": "c9c0da29",
   "metadata": {},
   "outputs": [
    {
     "name": "stdout",
     "output_type": "stream",
     "text": [
      "B= 0.2 -> power ≈ 0.096\n",
      "B= 0.6 -> power ≈ 0.475\n",
      "B= 1.8 -> power ≈ 1.000\n",
      "B= 5.4 -> power ≈ 1.000\n"
     ]
    }
   ],
   "source": [
    "def simulate(A=1, B=1, C=10, D=1000):\n",
    "    W = np.random.normal(0, 1, D)\n",
    "    X = W + np.random.normal(0, B, D)\n",
    "    Y = A * X - W + np.random.normal(0, C, D)\n",
    "    return Y, X, W\n",
    "\n",
    "def power_for_B(B, reps=2000):\n",
    "    count = 0\n",
    "    for _ in range(reps):\n",
    "        Y, X, W = simulate(A=1, B=B, C=10, D=1000)\n",
    "        XW = sm.add_constant(np.column_stack([X, W]))\n",
    "        tval = sm.OLS(Y, XW).fit().tvalues[1]   # t for X\n",
    "        if abs(tval) > 1.96:\n",
    "            count += 1\n",
    "    return count / reps\n",
    "\n",
    "for B in [0.2, 0.6, 1.8, 5.4]:\n",
    "    p = power_for_B(B, reps=2000)\n",
    "    print(f\"B={B:4.1f} -> power ≈ {p:.3f}\")\n"
   ]
  },
  {
   "cell_type": "markdown",
   "id": "c5947a2b",
   "metadata": {},
   "source": [
    "question 4"
   ]
  },
  {
   "cell_type": "code",
   "execution_count": 6,
   "id": "3a5c3ce5",
   "metadata": {},
   "outputs": [
    {
     "name": "stdout",
     "output_type": "stream",
     "text": [
      "A=1.0 -> power ≈ 0.1682\n",
      "A=4.0 -> power ≈ 0.9694\n",
      "A=2.0 -> power ≈ 0.5102\n",
      "A=0.5 -> power ≈ 0.0844\n"
     ]
    }
   ],
   "source": [
    "def simulate(A=1, B=1, C=10, D=100): # different D\n",
    "    W = np.random.normal(0, 1, D)\n",
    "    X = W + np.random.normal(0, B, D)\n",
    "    Y = A * X - W + np.random.normal(0, C, D)\n",
    "    return Y, X, W\n",
    "\n",
    "def power_for_A(A, reps=5000, B=1, C=10, D=100, seed=None):\n",
    "    if seed is not None:\n",
    "        np.random.seed(seed)\n",
    "    count = 0\n",
    "    for _ in range(reps):\n",
    "        Y, X, W = simulate(A, B, C, D)\n",
    "        XW = sm.add_constant(np.column_stack([X, W]))\n",
    "        tval = sm.OLS(Y, XW).fit().tvalues[1]  # t for X\n",
    "        if abs(tval) > 1.96:\n",
    "            count += 1\n",
    "    return count / reps\n",
    "\n",
    "for A in [1.0, 4.0, 2.0, 0.5]:\n",
    "    p = power_for_A(A, reps=5000)\n",
    "    print(f\"A={A:3.1f} -> power ≈ {p:.4f}\")\n"
   ]
  }
 ],
 "metadata": {
  "kernelspec": {
   "display_name": "Python 3",
   "language": "python",
   "name": "python3"
  },
  "language_info": {
   "codemirror_mode": {
    "name": "ipython",
    "version": 3
   },
   "file_extension": ".py",
   "mimetype": "text/x-python",
   "name": "python",
   "nbconvert_exporter": "python",
   "pygments_lexer": "ipython3",
   "version": "3.12.1"
  }
 },
 "nbformat": 4,
 "nbformat_minor": 5
}
