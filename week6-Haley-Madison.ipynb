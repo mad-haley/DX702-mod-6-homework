{
 "cells": [
  {
   "cell_type": "markdown",
   "id": "469dcce3",
   "metadata": {},
   "source": [
    "# week 6"
   ]
  },
  {
   "cell_type": "code",
   "execution_count": 2,
   "id": "f43f0429",
   "metadata": {},
   "outputs": [
    {
     "data": {
      "text/plain": [
       "(np.float64(1.6952701427487222),\n",
       " np.float64(1.846408507179443),\n",
       " np.float64(1.5494765534845105),\n",
       " np.float64(2.1724698851117035))"
      ]
     },
     "execution_count": 2,
     "metadata": {},
     "output_type": "execute_result"
    }
   ],
   "source": [
    "import pandas as pd\n",
    "from sklearn.neighbors import NearestNeighbors\n",
    "import numpy as np\n",
    "\n",
    "# load dataset\n",
    "df = pd.read_csv('homework_6.1.csv')\n",
    "\n",
    "# split treated and untreated groups\n",
    "treated = df[df['X'] == 1].reset_index(drop=True)\n",
    "untreated = df[df['X'] == 0].reset_index(drop=True)\n",
    "\n",
    "# confounder Z for matching\n",
    "Z_treated = treated[['Z']]\n",
    "Z_untreated = untreated[['Z']]\n",
    "\n",
    "# nearest neighbor models\n",
    "nn_treat = NearestNeighbors(n_neighbors=1).fit(Z_treated)\n",
    "nn_untreat = NearestNeighbors(n_neighbors=1).fit(Z_untreated)\n",
    "\n",
    "# match each treated with nearest untreated and vice versa\n",
    "treated_to_untreated_idx = nn_untreat.kneighbors(Z_treated, return_distance=False).flatten()\n",
    "untreated_to_treated_idx = nn_treat.kneighbors(Z_untreated, return_distance=False).flatten()\n",
    "\n",
    "# counterfactual matches\n",
    "treated_counterfactual = untreated.iloc[treated_to_untreated_idx]\n",
    "untreated_counterfactual = treated.iloc[untreated_to_treated_idx]\n",
    "\n",
    "# individual treatment effects\n",
    "ite_treated = treated['Y'].values - treated_counterfactual['Y'].values\n",
    "ite_untreated = untreated_counterfactual['Y'].values - untreated['Y'].values\n",
    "\n",
    "# ATE\n",
    "ATE = np.mean(np.concatenate([ite_treated, ite_untreated]))\n",
    "\n",
    "# ATT\n",
    "ATT = np.mean(ite_treated)\n",
    "\n",
    "# ATU\n",
    "ATU = np.mean(ite_untreated)\n",
    "\n",
    "# MTE — maximum among untreated effects\n",
    "MTE = np.max(ite_untreated)\n",
    "\n",
    "ATE, ATT, ATU, MTE"
   ]
  }
 ],
 "metadata": {
  "kernelspec": {
   "display_name": "Python 3",
   "language": "python",
   "name": "python3"
  },
  "language_info": {
   "codemirror_mode": {
    "name": "ipython",
    "version": 3
   },
   "file_extension": ".py",
   "mimetype": "text/x-python",
   "name": "python",
   "nbconvert_exporter": "python",
   "pygments_lexer": "ipython3",
   "version": "3.12.1"
  }
 },
 "nbformat": 4,
 "nbformat_minor": 5
}
