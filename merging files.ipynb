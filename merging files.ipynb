{
 "cells": [
  {
   "cell_type": "markdown",
   "id": "bd2a3e5c",
   "metadata": {},
   "source": [
    "merging weeks 5-8 notebooks:"
   ]
  },
  {
   "cell_type": "code",
   "execution_count": 1,
   "id": "23e30904",
   "metadata": {},
   "outputs": [
    {
     "name": "stdout",
     "output_type": "stream",
     "text": [
      "Requirement already satisfied: nbmerge in /usr/local/python/3.12.1/lib/python3.12/site-packages (0.0.4)\n",
      "\n",
      "\u001b[1m[\u001b[0m\u001b[34;49mnotice\u001b[0m\u001b[1;39;49m]\u001b[0m\u001b[39;49m A new release of pip is available: \u001b[0m\u001b[31;49m25.1.1\u001b[0m\u001b[39;49m -> \u001b[0m\u001b[32;49m25.3\u001b[0m\n",
      "\u001b[1m[\u001b[0m\u001b[34;49mnotice\u001b[0m\u001b[1;39;49m]\u001b[0m\u001b[39;49m To update, run: \u001b[0m\u001b[32;49mpython -m pip install --upgrade pip\u001b[0m\n",
      "Note: you may need to restart the kernel to use updated packages.\n"
     ]
    }
   ],
   "source": [
    "pip install nbmerge"
   ]
  },
  {
   "cell_type": "code",
   "execution_count": 6,
   "id": "007679c7",
   "metadata": {},
   "outputs": [],
   "source": [
    "!nbmerge week5-Haley-Mad.ipynb week6-Haley-Madison.ipynb week7-Haley-Mad.ipynb week8-Haley-Madison.ipynb > \"weeks5-8 Madison Haley.ipynb\""
   ]
  },
  {
   "cell_type": "code",
   "execution_count": 7,
   "id": "4d5ee3b5",
   "metadata": {},
   "outputs": [
    {
     "ename": "SyntaxError",
     "evalue": "invalid syntax (1948914412.py, line 2)",
     "output_type": "error",
     "traceback": [
      "  \u001b[36mCell\u001b[39m\u001b[36m \u001b[39m\u001b[32mIn[7]\u001b[39m\u001b[32m, line 2\u001b[39m\n\u001b[31m    \u001b[39m\u001b[31mecho $?\u001b[39m\n         ^\n\u001b[31mSyntaxError\u001b[39m\u001b[31m:\u001b[39m invalid syntax\n"
     ]
    }
   ],
   "source": [
    "!nbmerge week5-Haley-Mad.ipynb week6-Haley-Mad.ipynb week7-Haley-Mad.ipynb week8-Haley-Mad.ipynb > \"Weeks5-8 Madison Haley.ipynb\"\n",
    "echo $?\n"
   ]
  }
 ],
 "metadata": {
  "kernelspec": {
   "display_name": "Python 3",
   "language": "python",
   "name": "python3"
  },
  "language_info": {
   "codemirror_mode": {
    "name": "ipython",
    "version": 3
   },
   "file_extension": ".py",
   "mimetype": "text/x-python",
   "name": "python",
   "nbconvert_exporter": "python",
   "pygments_lexer": "ipython3",
   "version": "3.12.1"
  }
 },
 "nbformat": 4,
 "nbformat_minor": 5
}
