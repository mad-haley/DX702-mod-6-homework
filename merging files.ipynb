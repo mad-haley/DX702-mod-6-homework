{
 "cells": [
  {
   "cell_type": "markdown",
   "id": "bd2a3e5c",
   "metadata": {},
   "source": [
    "merging weeks 5-8 notebooks:"
   ]
  },
  {
   "cell_type": "code",
   "execution_count": 1,
   "id": "23e30904",
   "metadata": {},
   "outputs": [
    {
     "name": "stdout",
     "output_type": "stream",
     "text": [
      "Requirement already satisfied: nbmerge in /usr/local/python/3.12.1/lib/python3.12/site-packages (0.0.4)\n",
      "\n",
      "\u001b[1m[\u001b[0m\u001b[34;49mnotice\u001b[0m\u001b[1;39;49m]\u001b[0m\u001b[39;49m A new release of pip is available: \u001b[0m\u001b[31;49m25.1.1\u001b[0m\u001b[39;49m -> \u001b[0m\u001b[32;49m25.3\u001b[0m\n",
      "\u001b[1m[\u001b[0m\u001b[34;49mnotice\u001b[0m\u001b[1;39;49m]\u001b[0m\u001b[39;49m To update, run: \u001b[0m\u001b[32;49mpython -m pip install --upgrade pip\u001b[0m\n",
      "Note: you may need to restart the kernel to use updated packages.\n"
     ]
    }
   ],
   "source": [
    "pip install nbmerge"
   ]
  },
  {
   "cell_type": "code",
   "execution_count": 2,
   "id": "007679c7",
   "metadata": {},
   "outputs": [
    {
     "name": "stdout",
     "output_type": "stream",
     "text": [
      "Traceback (most recent call last):\n",
      "  File \"/home/codespace/.python/current/bin/nbmerge\", line 8, in <module>\n",
      "    sys.exit(main())\n",
      "             ^^^^^^\n",
      "  File \"/usr/local/python/3.12.1/lib/python3.12/site-packages/nbmerge/__init__.py\", line 189, in main\n",
      "    plan = parse_plan(args)\n",
      "           ^^^^^^^^^^^^^^^^\n",
      "  File \"/usr/local/python/3.12.1/lib/python3.12/site-packages/nbmerge/__init__.py\", line 173, in parse_plan\n",
      "    raise IOError(\"Notebook `{}` does not exist\".format(file_path))\n",
      "OSError: Notebook `week6-Haley-Mad.ipynb` does not exist\n"
     ]
    }
   ],
   "source": [
    "!nbmerge week5-Haley-Mad.ipynb week6-Haley-Mad.ipynb week7-Haley-Mad.ipynb week8-Haley-Mad.ipynb > \"weeks5-8 Madison Haley.ipynb\""
   ]
  }
 ],
 "metadata": {
  "kernelspec": {
   "display_name": "Python 3",
   "language": "python",
   "name": "python3"
  },
  "language_info": {
   "codemirror_mode": {
    "name": "ipython",
    "version": 3
   },
   "file_extension": ".py",
   "mimetype": "text/x-python",
   "name": "python",
   "nbconvert_exporter": "python",
   "pygments_lexer": "ipython3",
   "version": "3.12.1"
  }
 },
 "nbformat": 4,
 "nbformat_minor": 5
}
